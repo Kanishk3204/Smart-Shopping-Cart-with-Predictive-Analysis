{
  "cells": [
    {
      "cell_type": "markdown",
      "metadata": {
        "id": "x_zucQlAz8nE"
      },
      "source": [
        "# DATA PROCESSING"
      ]
    },
    {
      "cell_type": "code",
      "execution_count": null,
      "metadata": {
        "id": "2VfPLJIv6n1v"
      },
      "outputs": [],
      "source": [
        "pip install XlsxWriter"
      ]
    },
    {
      "cell_type": "code",
      "execution_count": null,
      "metadata": {
        "id": "PAZ2IXk4z_2R"
      },
      "outputs": [],
      "source": [
        "from google.colab import auth\n",
        "import pandas as pd\n",
        "auth.authenticate_user()\n",
        "\n",
        "import gspread\n",
        "from google.auth import default\n",
        "creds, _ = default()\n",
        "\n",
        "gc = gspread.authorize(creds)\n",
        "\n",
        "# read data and put it in a dataframe\n",
        "gsheets = gc.open_by_url('https://docs.google.com/spreadsheets/d/1f_5dbtvzOhDm-R_mDbRvoBAtAKLqlIZJ9rKClGb5Iuw/edit#gid=0')\n",
        "sheets = gsheets.worksheet('Sheet1').get_all_values()\n",
        "df = pd.DataFrame(sheets[1:], columns=sheets[0])\n",
        "df['id'] = df['id'].astype(int)\n",
        "df['quantity'] = df['quantity'].astype(int)\n",
        "df['price'] = df['price'].astype(float)\n",
        "df['brand_recognition'] = df['brand_recognition'].astype(float)\n",
        "df['shelves'] = df['shelves'].astype(int)\n",
        "df['level'] = df['level'].astype(int)\n",
        "df['bill_id'] = df['bill_id'].astype(int)\n",
        "\n",
        "# Convert 'time' and 'date' columns to datetime type\n",
        "df['time'] = pd.to_datetime(df['time'])\n",
        "df['date'] = pd.to_datetime(df['date'])\n",
        "df.dtypes"
      ]
    },
    {
      "cell_type": "code",
      "execution_count": null,
      "metadata": {
        "id": "qqhJP_AS3QhE"
      },
      "outputs": [],
      "source": [
        "def create_excel_file(df):\n",
        "    # Group the dataframe by product name\n",
        "    grouped = df.groupby('name')\n",
        "\n",
        "    # Create a writer object\n",
        "    writer = pd.ExcelWriter('product_sales.xlsx', engine='xlsxwriter')\n",
        "\n",
        "    # Loop through each product group\n",
        "    for product, group in grouped:\n",
        "        # Aggregate sales for each day\n",
        "        daily_sales = group.groupby('date').agg({\n",
        "            'quantity': 'sum',\n",
        "            'brand_recognition': 'first',\n",
        "            'shelves': 'first',\n",
        "            'level': 'first',\n",
        "            'day':'first'\n",
        "        })\n",
        "\n",
        "        # Write data to separate worksheet\n",
        "        daily_sales.to_excel(writer, sheet_name=product)\n",
        "\n",
        "    # Save the Excel file\n",
        "    writer.close()\n",
        "\n",
        "# Call the function to create the Excel file\n",
        "create_excel_file(df)"
      ]
    },
    {
      "cell_type": "markdown",
      "metadata": {
        "id": "pGSgt4pSy2Cf"
      },
      "source": [
        "# Shelf Space Allocation"
      ]
    },
    {
      "cell_type": "code",
      "execution_count": null,
      "metadata": {
        "id": "JmwouL3Jj3xf"
      },
      "outputs": [],
      "source": [
        "!pip install pulp"
      ]
    },
    {
      "cell_type": "code",
      "execution_count": null,
      "metadata": {
        "colab": {
          "base_uri": "https://localhost:8080/"
        },
        "id": "CsOUqDJ_y7Q6",
        "outputId": "70deb2fa-a133-43ab-9917-4dd306a81422"
      },
      "outputs": [
        {
          "output_type": "stream",
          "name": "stdout",
          "text": [
            "bread : 2 shelves\n",
            "butter : 2 shelves\n",
            "cheese : 2 shelves\n",
            "chocolate : 2 shelves\n",
            "flour : 2 shelves\n",
            "milk : 2 shelves\n",
            "tea : 3 shelves\n"
          ]
        }
      ],
      "source": [
        "import pandas as pd\n",
        "import numpy as np\n",
        "import statsmodels.formula.api as sm\n",
        "import cvxpy as cvx\n",
        "\n",
        "def get_params(sheet):\n",
        "    df= pd.read_excel(\"/content/product_sales.xlsx\",sheet_name=sheet )\n",
        "\n",
        "    df[\"day\"]= ((df[\"day\"]=='Sunday') | (df[\"day\"]=='Saturday'))\n",
        "    df[\"space\"] = (df[\"shelves\"])\n",
        "    df[\"sales\"] = (df[\"quantity\"])\n",
        "    df[\"brand\"] =(df[\"brand_recognition\"])\n",
        "    df[\"level\"] =(df[\"level\"])\n",
        "    fit = sm.ols(formula=\"sales ~ space + brand + day + level\", data=df).fit()\n",
        "    result = fit.params\n",
        "    return result\n",
        "\n",
        "m=[]\n",
        "prod=['bread','butter','cheese','chocolate','flour','milk','tea']\n",
        "for i in prod:\n",
        "  m.append(get_params(i))\n",
        "\n",
        "def optimize(is_weekend, price,brand,level, m):\n",
        "    x=[cvx.Variable(integer=True) for _ in range(7)]\n",
        "    expr=0\n",
        "    for i in range (7):\n",
        "      expr+= price[i]*(m[i][0]+m[i][1]*x[i]+m[i][2]*brand[i]+m[i][3]*is_weekend+m[i][4]*level[i])\n",
        "    #expr = cvx.sum([price[i] * (m[i][0] + m[i][1] * x[i] + m[i][2] * brand[i] + m[i][3] * is_weekend + m[i][4] * level[i]) for i in range(7)])\n",
        "    obj = cvx.Maximize(expr)\n",
        "    con = [\n",
        "        cvx.sum(x) <= 15,  # Total sum of all elements <= 15\n",
        "    ]\n",
        "    ind_con = [xi >= 2 for xi in x]\n",
        "    con +=ind_con\n",
        "    prob = cvx.Problem(obj, con)\n",
        "    result = prob.solve()\n",
        "    return x, obj.value\n",
        "\n",
        "#prod=['bread','butter','cheese','chocolate','flour','milk','tea']\n",
        "price=[23,58,100,60,49,74,300]\n",
        "brand=[0.6,0.8,0.5,0.9,0.5,0.85,0.4]\n",
        "level=[3,2,2,1,3,1,2]\n",
        "x,val=optimize(0,price,brand,level,m)\n",
        "x=[int(xi.value) for xi in x]\n",
        "for i in range (7):\n",
        "  print(f\"{prod[i]} : {x[i]} shelves\")"
      ]
    },
    {
      "cell_type": "markdown",
      "metadata": {
        "id": "JRU0NIPBC7LG"
      },
      "source": [
        "# Association Rules"
      ]
    },
    {
      "cell_type": "code",
      "execution_count": null,
      "metadata": {
        "colab": {
          "base_uri": "https://localhost:8080/"
        },
        "id": "a1eF_Wl0DE-9",
        "outputId": "72032910-9562-41de-8ab3-6a6cafaaabd7"
      },
      "outputs": [
        {
          "output_type": "stream",
          "name": "stdout",
          "text": [
            "Top 3 Association Rules:\n",
            "[(frozenset({'tea'}), frozenset({'milk'})), (frozenset({'milk'}), frozenset({'tea'})), (frozenset({'butter'}), frozenset({'bread'}))]\n",
            "Association Rules:\n",
            "[(7, 6), (6, 7), (2, 1)]\n"
          ]
        },
        {
          "output_type": "stream",
          "name": "stderr",
          "text": [
            "/usr/local/lib/python3.10/dist-packages/mlxtend/frequent_patterns/fpcommon.py:110: DeprecationWarning: DataFrames with non-bool types result in worse computationalperformance and their support might be discontinued in the future.Please use a DataFrame with bool type\n",
            "  warnings.warn(\n"
          ]
        }
      ],
      "source": [
        "from mlxtend.frequent_patterns import apriori, association_rules\n",
        "import pandas as pd\n",
        "# Transform data into one-hot encoded format\n",
        "basket = (df.groupby(['bill_id', 'name'])['quantity']\n",
        "          .sum().unstack().reset_index().fillna(0)\n",
        "          .set_index('bill_id'))\n",
        "\n",
        "# Convert quantities to 0 or 1\n",
        "basket_sets = basket.applymap(lambda x: 1 if x > 0 else 0)\n",
        "\n",
        "# Find frequent itemsets\n",
        "frequent_itemsets = apriori(basket_sets, min_support=0.24, use_colnames=True)\n",
        "\n",
        "# Generate association rules\n",
        "rules = association_rules(frequent_itemsets, metric=\"lift\", min_threshold=1)\n",
        "\n",
        "# Sort rules by lift in descending order\n",
        "rules = rules.sort_values(by='lift', ascending=False)\n",
        "\n",
        "# Extract top 3 association rules\n",
        "top_3_rules = rules[['antecedents', 'consequents']].head(3)\n",
        "\n",
        "# Convert rules to the desired format\n",
        "association_rules = [tuple(rule) for rule in top_3_rules.values]\n",
        "\n",
        "print(\"Top 3 Association Rules:\")\n",
        "print(association_rules)\n",
        "input_associations=association_rules\n",
        "prod = ['bread','butter','cheese','chocolate','flour','milk','tea']\n",
        "\n",
        "# Create a dictionary to map products to indices\n",
        "prod_to_index = {p: i+1 for i, p in enumerate(prod)}\n",
        "\n",
        "# Convert input associations to the format [(1, 2), (1, 3)]\n",
        "association_rules = []\n",
        "for antecedent, consequent in input_associations:\n",
        "    antecedent_index = prod_to_index[list(antecedent)[0]]\n",
        "    consequent_index = prod_to_index[list(consequent)[0]]\n",
        "    association_rules.append((antecedent_index, consequent_index))\n",
        "\n",
        "print(\"Association Rules:\")\n",
        "print(association_rules)"
      ]
    },
    {
      "cell_type": "markdown",
      "metadata": {
        "id": "qeJBb9D8vJ0J"
      },
      "source": [
        "# Incorporating Association Rules"
      ]
    },
    {
      "cell_type": "code",
      "execution_count": null,
      "metadata": {
        "colab": {
          "base_uri": "https://localhost:8080/"
        },
        "id": "J9D5MeRvyO23",
        "outputId": "5354b9cd-7e48-4fc3-c3a4-cf537a14f83f"
      },
      "outputs": [
        {
          "output_type": "stream",
          "name": "stdout",
          "text": [
            "[{'butter', 'bread'}, {'cheese'}, {'chocolate'}, {'flour'}, {'milk', 'tea'}]\n",
            "[4, 2, 2, 2, 5]\n",
            "Optimized Matrix X:\n",
            "[[0. 4. 0.]\n",
            " [2. 0. 0.]\n",
            " [2. 0. 0.]\n",
            " [1. 0. 1.]\n",
            " [0. 1. 4.]]\n",
            "[{'butter', 'bread'}, {'cheese'}, {'chocolate'}, {'flour'}, {'milk', 'tea'}]\n"
          ]
        },
        {
          "output_type": "stream",
          "name": "stderr",
          "text": [
            "/usr/local/lib/python3.10/dist-packages/ipykernel/ipkernel.py:283: DeprecationWarning: `should_run_async` will not call `transform_cell` automatically in the future. Please pass the result to `transformed_cell` argument and any exception that happen during thetransform in `preprocessing_exc_tuple` in IPython 7.17 and above.\n",
            "  and should_run_async(code)\n"
          ]
        }
      ],
      "source": [
        "# Association rules among products\n",
        "#x=[2,2,2,2,2,2,3]\n",
        "\n",
        "# Step 1: Create initial groups with each product as an individual group\n",
        "product_groups = [{i}for i in range(1, len(x) + 1)]\n",
        "\n",
        "# Merge groups based on association rules\n",
        "for rule in association_rules:\n",
        "    group1, group2 = rule\n",
        "    merged_group = None\n",
        "    for group in product_groups[:]:\n",
        "        if group1 in group or group2 in group:\n",
        "            if merged_group is None:\n",
        "                merged_group = group\n",
        "            else:\n",
        "                merged_group.update(group)\n",
        "                product_groups.remove(group)\n",
        "    if merged_group is None:\n",
        "        product_groups.append({group1, group2})\n",
        "\n",
        "# Step 2: Determine the number of shelves assigned to each group\n",
        "group_shelves = [sum(x[i-1] for i in group) for group in product_groups]\n",
        "\n",
        "\n",
        "# Create a dictionary to map indices to product names\n",
        "index_to_product = {i: product for i, product in enumerate(prod, start=1)}\n",
        "\n",
        "# Replace numbers with product names\n",
        "product_groups = [{index_to_product[idx] for idx in group} for group in product_groups]\n",
        "\n",
        "print(product_groups)\n",
        "print(group_shelves)\n",
        "\n",
        "import numpy as np\n",
        "from pulp import LpMaximize, LpProblem, LpVariable\n",
        "\n",
        "# Visibility matrix\n",
        "visibility_matrix = np.array([1, 0.8, 0.6])\n",
        "n=len(group_shelves)\n",
        "# Define the objective function to maximize the product of X and the visibility matrix\n",
        "def objective_function(X_flat):\n",
        "    X = X_flat.reshape(n, 3)  # Reshape the flattened matrix to 3x3\n",
        "    return np.sum(X * visibility_matrix)\n",
        "\n",
        "# Define constraints on total number of products of each kind\n",
        "product_constraints = np.array(group_shelves)\n",
        "\n",
        "# Define constraints on total number of shelves at each level\n",
        "shelf_constraints = np.array([5, 5, 5])\n",
        "\n",
        "# Define initial guess for X\n",
        "initial_guess = np.random.rand(n, 3)\n",
        "\n",
        "# Create a linear programming problem\n",
        "problem = LpProblem(\"Maximize_Product\", LpMaximize)\n",
        "\n",
        "# Define decision variables\n",
        "X_vars = [LpVariable(f\"X_{i}_{j}\", lowBound=0, cat='Integer') for i in range(n) for j in range(3)]\n",
        "\n",
        "# Add objective function to the problem\n",
        "problem += sum(X_vars[i*3 + j] * visibility_matrix[j] for i in range(n) for j in range(3)), \"Objective Function\"\n",
        "\n",
        "# Add constraints\n",
        "for i in range(n):\n",
        "    problem += sum(X_vars[i*3 + j] for j in range(3)) == product_constraints[i], f\"Product_Constraint_{i}\"\n",
        "for j in range(3):\n",
        "    problem += sum(X_vars[i*3 + j] for i in range(n)) == shelf_constraints[j], f\"Shelf_Constraint_{j}\"\n",
        "\n",
        "# Solve the problem\n",
        "problem.solve()\n",
        "\n",
        "# Extract the optimized matrix X\n",
        "optimized_X = np.array([[X_vars[i*3 + j].value() for j in range(3)] for i in range(n)])\n",
        "\n",
        "print(\"Optimized Matrix X:\")\n",
        "print(optimized_X)\n",
        "print(product_groups)\n",
        "#print(\"Maximized product of X and visibility matrix:\", problem.objective.value())\n"
      ]
    },
    {
      "cell_type": "code",
      "source": [
        "# URL of the Google Sheet\n",
        "sheet_url = 'https://docs.google.com/spreadsheets/d/1jmPEZWPo6pBmpV7fmxGUt8IJtldUbC9cwH9lPVeYgqA/edit#gid=164289039'\n",
        "\n",
        "# Open the Google Sheet using its URL\n",
        "sheet = gc.open_by_url(sheet_url)\n",
        "\n",
        "# Access 'group_sheet' and 'matrix_sheet'\n",
        "group_sheet = sheet.worksheet('group_sheet')\n",
        "matrix_sheet = sheet.worksheet('matrix_sheet')\n",
        "\n",
        "# Write product_groups to 'group_sheet'\n",
        "for row_number, product_group in enumerate(product_groups, start=1):\n",
        "    # Convert the set to a comma-separated string\n",
        "    group_string = ', '.join(product_group)\n",
        "    # Write the group string to the appropriate row in 'group_sheet'\n",
        "    group_sheet.update_cell(row_number, 1, group_string)\n",
        "optimized_X_list = optimized_X.tolist()\n",
        "# Write optimized_matrix_x to 'matrix_sheet'\n",
        "for row_index, row in enumerate(optimized_X_list):\n",
        "    matrix_sheet.update(f'A{row_index + 1}', [row])"
      ],
      "metadata": {
        "id": "If0oHnPUB_6_"
      },
      "execution_count": null,
      "outputs": []
    },
    {
      "cell_type": "markdown",
      "metadata": {
        "id": "2YxKWJDSgcT8"
      },
      "source": [
        "# Peak Hours"
      ]
    },
    {
      "cell_type": "code",
      "execution_count": null,
      "metadata": {
        "colab": {
          "base_uri": "https://localhost:8080/"
        },
        "id": "S580CwvEn7vl",
        "outputId": "64550a7c-0e60-4dad-c47e-cf8f7825d77f"
      },
      "outputs": [
        {
          "output_type": "stream",
          "name": "stdout",
          "text": [
            "On Sunday, the peak time range(s) for maximum orders are: 20:00-20:59, with 11 orders.\n",
            "On Monday, the peak time range(s) for maximum orders are: 06:00-06:59, with 7 orders.\n",
            "On Tuesday, the peak time range(s) for maximum orders are: 08:00-09:59, with 4 orders.\n",
            "On Wednesday, the peak time range(s) for maximum orders are: 09:00-09:59, with 6 orders.\n",
            "On Thursday, the peak time range(s) for maximum orders are: 08:00-08:59, 10:00-10:59, with 3 orders.\n",
            "On Friday, the peak time range(s) for maximum orders are: 07:00-07:59, with 4 orders.\n",
            "On Saturday, the peak time range(s) for maximum orders are: 06:00-06:59, 19:00-19:59, with 3 orders.\n"
          ]
        },
        {
          "output_type": "stream",
          "name": "stderr",
          "text": [
            "/usr/local/lib/python3.10/dist-packages/ipykernel/ipkernel.py:283: DeprecationWarning: `should_run_async` will not call `transform_cell` automatically in the future. Please pass the result to `transformed_cell` argument and any exception that happen during thetransform in `preprocessing_exc_tuple` in IPython 7.17 and above.\n",
            "  and should_run_async(code)\n"
          ]
        }
      ],
      "source": [
        "from collections import defaultdict\n",
        "\n",
        "# Function to calculate count of orders for each hour of each day of the week\n",
        "def calculate_orders_per_hour_per_day(df):\n",
        "    orders_per_hour_per_day = defaultdict(dict)\n",
        "\n",
        "    for index, row in df.iterrows():\n",
        "        day_of_week = row['date'].dayofweek\n",
        "        hour = row['time'].hour\n",
        "        if hour not in orders_per_hour_per_day[day_of_week]:\n",
        "            orders_per_hour_per_day[day_of_week][hour] = 0\n",
        "        orders_per_hour_per_day[day_of_week][hour] += 1\n",
        "\n",
        "    return orders_per_hour_per_day\n",
        "\n",
        "# Function to find peak time ranges for each day of the week\n",
        "def find_peak_time_ranges_per_day(orders_per_hour_per_day):\n",
        "    peak_time_ranges_per_day = {}\n",
        "\n",
        "    for day, orders_per_hour in orders_per_hour_per_day.items():\n",
        "        max_orders = max(orders_per_hour.values())\n",
        "        peak_hours = [hour for hour, count in orders_per_hour.items() if count == max_orders]\n",
        "\n",
        "        # Find consecutive time ranges restricted to the same day\n",
        "        peak_ranges = []\n",
        "        start_hour = None\n",
        "        end_hour = None\n",
        "        for hour in peak_hours:\n",
        "            if start_hour is None:\n",
        "                start_hour = hour\n",
        "                end_hour = hour\n",
        "            elif hour == end_hour + 1:\n",
        "                end_hour = hour\n",
        "            else:\n",
        "                peak_ranges.append((start_hour, end_hour))\n",
        "                start_hour = hour\n",
        "                end_hour = hour\n",
        "        if start_hour is not None:\n",
        "            peak_ranges.append((start_hour, end_hour))\n",
        "\n",
        "        # Merge adjacent ranges\n",
        "        merged_ranges = []\n",
        "        for start, end in peak_ranges:\n",
        "            if not merged_ranges or start > merged_ranges[-1][1] + 1:\n",
        "                merged_ranges.append((start, end))\n",
        "            else:\n",
        "                merged_ranges[-1] = (merged_ranges[-1][0], max(merged_ranges[-1][1], end))\n",
        "\n",
        "        peak_time_ranges_per_day[day] = (merged_ranges, max_orders)\n",
        "\n",
        "    return peak_time_ranges_per_day\n",
        "\n",
        "# Convert day indices to day names\n",
        "days_of_week = [\"Monday\", \"Tuesday\", \"Wednesday\", \"Thursday\", \"Friday\", \"Saturday\", \"Sunday\"]\n",
        "\n",
        "\n",
        "orders_per_hour_per_day = calculate_orders_per_hour_per_day(df)\n",
        "peak_time_ranges_per_day = find_peak_time_ranges_per_day(orders_per_hour_per_day)\n",
        "\n",
        "for day, (peak_ranges, max_orders) in peak_time_ranges_per_day.items():\n",
        "      day_name = days_of_week[day]\n",
        "      peak_ranges_str = \", \".join([f\"{start_hour:02d}:00-{end_hour:02d}:59\" for start_hour, end_hour in peak_ranges])\n",
        "      print(f\"On {day_name}, the peak time range(s) for maximum orders are: {peak_ranges_str}, with {max_orders} orders.\")\n",
        "\n",
        "\n",
        "\n",
        "\n"
      ]
    },
    {
      "cell_type": "markdown",
      "metadata": {
        "id": "C3cGJhaHHVXW"
      },
      "source": [
        "# Inventory"
      ]
    },
    {
      "cell_type": "code",
      "execution_count": null,
      "metadata": {
        "colab": {
          "base_uri": "https://localhost:8080/"
        },
        "id": "FXWk6BjOHaA2",
        "outputId": "17e37362-79b5-4658-a9b1-8faf554519b8"
      },
      "outputs": [
        {
          "output_type": "stream",
          "name": "stdout",
          "text": [
            "Estimated quantities required for next week:\n",
            "Bread: 44\n",
            "Butter: 23\n",
            "Cheese: 27\n",
            "Chocolate: 33\n",
            "Flour: 22\n",
            "Milk: 27\n",
            "Tea: 20\n"
          ]
        },
        {
          "output_type": "stream",
          "name": "stderr",
          "text": [
            "/usr/local/lib/python3.10/dist-packages/ipykernel/ipkernel.py:283: DeprecationWarning: `should_run_async` will not call `transform_cell` automatically in the future. Please pass the result to `transformed_cell` argument and any exception that happen during thetransform in `preprocessing_exc_tuple` in IPython 7.17 and above.\n",
            "  and should_run_async(code)\n"
          ]
        }
      ],
      "source": [
        "import math\n",
        "\n",
        "# Function to calculate estimated quantities required for each product for the next week\n",
        "def calculate_next_week_quantities(df, demand_increase_percentage, safety_margin_percentage):\n",
        "    # Sum up the quantities sold for each product for the current week\n",
        "    sales_data = df.groupby('name')['quantity'].sum().reset_index()\n",
        "\n",
        "    next_week_quantities = {}\n",
        "    for index, row in sales_data.iterrows():\n",
        "        product = row['name']\n",
        "        quantity_sold = row['quantity']\n",
        "        # Calculate expected demand for next week\n",
        "        expected_demand = quantity_sold * (1 + demand_increase_percentage)\n",
        "        # Add safety margin\n",
        "        required_quantity = math.ceil(expected_demand * (1 + safety_margin_percentage))\n",
        "        next_week_quantities[product] = required_quantity\n",
        "    return next_week_quantities\n",
        "\n",
        "# Assumptions\n",
        "demand_increase_percentage = 0.10\n",
        "safety_margin_percentage = 0.20\n",
        "\n",
        "# Calculate estimated quantities for next week\n",
        "estimated_quantities = calculate_next_week_quantities(df, demand_increase_percentage, safety_margin_percentage)\n",
        "\n",
        "# Display the results\n",
        "print(\"Estimated quantities required for next week:\")\n",
        "for product, quantity in estimated_quantities.items():\n",
        "    print(f\"{product.capitalize()}: {quantity}\")\n"
      ]
    },
    {
      "cell_type": "markdown",
      "metadata": {
        "id": "hk4SudFHgQdA"
      },
      "source": [
        "# Shelf Design"
      ]
    },
    {
      "cell_type": "code",
      "execution_count": null,
      "metadata": {
        "id": "KtBxNN64j2TJ",
        "colab": {
          "base_uri": "https://localhost:8080/"
        },
        "outputId": "cca562b8-63fa-4cc5-9ed0-1ac75584d12c"
      },
      "outputs": [
        {
          "output_type": "stream",
          "name": "stdout",
          "text": [
            "Optimized Matrix X:\n",
            "[[0. 2. 0.]\n",
            " [2. 0. 0.]\n",
            " [2. 0. 0.]\n",
            " [1. 0. 1.]\n",
            " [0. 1. 1.]\n",
            " [0. 2. 0.]\n",
            " [0. 0. 3.]]\n"
          ]
        },
        {
          "output_type": "stream",
          "name": "stderr",
          "text": [
            "/usr/local/lib/python3.10/dist-packages/ipykernel/ipkernel.py:283: DeprecationWarning: `should_run_async` will not call `transform_cell` automatically in the future. Please pass the result to `transformed_cell` argument and any exception that happen during thetransform in `preprocessing_exc_tuple` in IPython 7.17 and above.\n",
            "  and should_run_async(code)\n"
          ]
        }
      ],
      "source": [
        "import numpy as np\n",
        "from pulp import LpMaximize, LpProblem, LpVariable\n",
        "\n",
        "# Visibility matrix\n",
        "visibility_matrix = np.array([1, 0.8, 0.6])\n",
        "\n",
        "# Define the objective function to maximize the product of X and the visibility matrix\n",
        "def objective_function(X_flat):\n",
        "    X = X_flat.reshape(7, 3)  # Reshape the flattened matrix to 3x3\n",
        "    return np.sum(X * visibility_matrix)\n",
        "\n",
        "# Define constraints on total number of products of each kind\n",
        "product_constraints = np.array(x)\n",
        "\n",
        "# Define constraints on total number of shelves at each level\n",
        "shelf_constraints = np.array([5, 5, 5])\n",
        "\n",
        "# Define initial guess for X\n",
        "initial_guess = np.random.rand(7, 3)\n",
        "\n",
        "# Create a linear programming problem\n",
        "problem = LpProblem(\"Maximize_Product\", LpMaximize)\n",
        "\n",
        "# Define decision variables\n",
        "X_vars = [LpVariable(f\"X_{i}_{j}\", lowBound=0, cat='Integer') for i in range(7) for j in range(3)]\n",
        "\n",
        "# Add objective function to the problem\n",
        "problem += sum(X_vars[i*3 + j] * visibility_matrix[j] for i in range(7) for j in range(3)), \"Objective Function\"\n",
        "\n",
        "# Add constraints\n",
        "for i in range(7):\n",
        "    problem += sum(X_vars[i*3 + j] for j in range(3)) == product_constraints[i], f\"Product_Constraint_{i}\"\n",
        "for j in range(3):\n",
        "    problem += sum(X_vars[i*3 + j] for i in range(7)) == shelf_constraints[j], f\"Shelf_Constraint_{j}\"\n",
        "\n",
        "# Solve the problem\n",
        "problem.solve()\n",
        "\n",
        "# Extract the optimized matrix X\n",
        "optimized_X = np.array([[X_vars[i*3 + j].value() for j in range(3)] for i in range(7)])\n",
        "\n",
        "print(\"Optimized Matrix X:\")\n",
        "print(optimized_X)\n",
        "#print(\"Maximized product of X and visibility matrix:\", problem.objective.value())\n"
      ]
    }
  ],
  "metadata": {
    "colab": {
      "collapsed_sections": [
        "gDR3q6B3ywdV",
        "HeSSdSBL8l78"
      ],
      "provenance": []
    },
    "kernelspec": {
      "display_name": "Python 3",
      "name": "python3"
    },
    "language_info": {
      "name": "python"
    }
  },
  "nbformat": 4,
  "nbformat_minor": 0
}